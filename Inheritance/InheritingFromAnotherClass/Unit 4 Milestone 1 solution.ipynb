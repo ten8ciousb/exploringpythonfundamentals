{
 "cells": [
  {
   "cell_type": "markdown",
   "metadata": {
    "slideshow": {
     "slide_type": "slide"
    }
   },
   "source": [
    "## Inheritance"
   ]
  },
  {
   "cell_type": "markdown",
   "metadata": {},
   "source": [
    "## Milestone 1\n",
    "\n",
    "Suppose you're creating an obstacle course game where different players can choose different animal avatars to get through the course. The different avatars would have different ways of moving depending on what type of animal they are. For a start, let's assume that we want to model wolves, bears, eagles, ducks, frogs, and trout.\n",
    "\n",
    "You don't want to have to repeat your code, so you decide to create some base classes and inherit from them. Maybe starting from a base Animal class and inherting from there would let you create all the different types of animals you need without repetitive code and in an organized manner.\n",
    "\n",
    "This project will help you explore how inheritance works in Python on a basic level and how it can be used to avoid repetition of code and create classes that match your situation.\n",
    "\n",
    "What base classes would you create that would let you model how all of these animals behave and also allow for expansion as you add other animals to your ecosystem?\n",
    "\n",
    "Create those base classes and the actual classes for the animals mentioned above. For the sake of this project, let's just have the object print what they would do, as for example if we want to make a wolf object run, it would just print something like \"running\". At this point let's assume that a class can only inherit directly from one other. That is, it can only have one parent or super class. \n",
    "\n",
    "If you were thinking about what you learned in Biology class, you might have organized your classes like this:"
   ]
  },
  {
   "cell_type": "code",
   "execution_count": 1,
   "metadata": {
    "slideshow": {
     "slide_type": "slide"
    }
   },
   "outputs": [],
   "source": [
    "class Animal():\n",
    "    def __init__(self, name):\n",
    "        self.name = name\n",
    "        \n",
    "    def __repr__(self):\n",
    "        return self.name\n",
    "\n",
    "class Mammal(Animal):\n",
    "    def run(self):\n",
    "        return f\"{self} is running\"\n",
    "\n",
    "    \n",
    "class Wolf(Mammal):\n",
    "    pass\n",
    "\n",
    "class Bear(Mammal):\n",
    "    def climb(self):\n",
    "        return f\"{self} is climbing\"\n",
    "\n",
    "class Fish(Animal):\n",
    "    def swim(self):\n",
    "        return f\"{self} is swimming\"\n",
    "\n",
    "class Trout(Fish):\n",
    "    def swim(self, depth):\n",
    "        self.depth = depth\n",
    "        return f\"{super().swim()} at depth of {self.depth}\"\n",
    "\n",
    "class Bird(Animal):\n",
    "    def fly(self):\n",
    "        return f\"{self} is flying\"\n",
    "\n",
    "class Eagle(Bird):\n",
    "    pass\n",
    "\n",
    "class Duck(Bird):\n",
    "    def swim(self):\n",
    "        return f\"{self} is swimming\"\n",
    "\n",
    "class Amphibian(Animal):\n",
    "    def swim(self):\n",
    "        return f\"{self} is swimming\"\n",
    "        \n",
    "class Frog(Amphibian):\n",
    "    def swim(self, depth):\n",
    "        self.depth = depth\n",
    "        return f\"{super().swim()} at depth of {self.depth}\"\n",
    "\n",
    "    def jump(self):\n",
    "        return f\"{self} is jumping\""
   ]
  },
  {
   "cell_type": "code",
   "execution_count": 3,
   "metadata": {},
   "outputs": [
    {
     "output_type": "stream",
     "name": "stdout",
     "text": [
      "lobo is running\nsmokey is running\nsmokey is climbing\n"
     ]
    }
   ],
   "source": [
    "lobo = Wolf(\"lobo\")\n",
    "print(lobo.run())\n",
    "smokey = Bear(\"smokey\")\n",
    "print(smokey.run())\n",
    "print(smokey.climb())"
   ]
  },
  {
   "cell_type": "code",
   "execution_count": 2,
   "metadata": {},
   "outputs": [
    {
     "output_type": "stream",
     "name": "stdout",
     "text": [
      "sam is flying\ndonald is swimming\n"
     ]
    }
   ],
   "source": [
    "sam = Eagle(\"sam\")\n",
    "print(sam.fly())\n",
    "donald = Duck(\"donald\")\n",
    "print(donald.swim())"
   ]
  },
  {
   "cell_type": "code",
   "execution_count": 31,
   "metadata": {
    "scrolled": true
   },
   "outputs": [
    {
     "name": "stdout",
     "output_type": "stream",
     "text": [
      "rainbow is swimming at depth of 2\n",
      "hoppity is swimming at depth of 2\n",
      "hoppity is jumping\n"
     ]
    }
   ],
   "source": [
    "rainbow = Trout(\"rainbow\")\n",
    "print(rainbow.swim(2))\n",
    "hoppity = Frog(\"hoppity\")\n",
    "print(hoppity.swim(2))\n",
    "print(hoppity.jump())"
   ]
  }
 ],
 "metadata": {
  "kernelspec": {
   "name": "python394jvsc74a57bd0aee8b7b246df8f9039afb4144a1f6fd8d2ca17a180786b69acc140d282b71a49",
   "display_name": "Python 3.9.4 64-bit"
  },
  "language_info": {
   "codemirror_mode": {
    "name": "ipython",
    "version": 3
   },
   "file_extension": ".py",
   "mimetype": "text/x-python",
   "name": "python",
   "nbconvert_exporter": "python",
   "pygments_lexer": "ipython3",
   "version": "3.9.4"
  },
  "livereveal": {
   "scroll": true,
   "start_slideshow_at": "selected",
   "theme": "white",
   "transition": "none"
  },
  "toc": {
   "base_numbering": 1,
   "nav_menu": {},
   "number_sections": false,
   "sideBar": true,
   "skip_h1_title": false,
   "title_cell": "Table of Contents",
   "title_sidebar": "Contents",
   "toc_cell": false,
   "toc_position": {},
   "toc_section_display": true,
   "toc_window_display": false
  },
  "metadata": {
   "interpreter": {
    "hash": "aee8b7b246df8f9039afb4144a1f6fd8d2ca17a180786b69acc140d282b71a49"
   }
  }
 },
 "nbformat": 4,
 "nbformat_minor": 2
}
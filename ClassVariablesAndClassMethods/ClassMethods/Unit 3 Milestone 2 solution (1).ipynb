{
 "cells": [
  {
   "cell_type": "markdown",
   "metadata": {
    "slideshow": {
     "slide_type": "skip"
    }
   },
   "source": [
    "## Milestone 2"
   ]
  },
  {
   "cell_type": "markdown",
   "metadata": {
    "slideshow": {
     "slide_type": "skip"
    }
   },
   "source": [
    "## Deliverable\n",
    "1. Rework your final class from the previous activity to use the class itself to access class data:\n",
    "\n",
    "   ```python\n",
    "       def close(self):\n",
    "           Connection.connection_count = Connection.connection_count - 1\n",
    "   ```\n",
    "\n",
    "   Be sure to distinguish between changing the class data and instance variables like `host` or `port`. While using the class explicitly works, what might be problems with that approach if we later create a subclass?\n",
    "\n",
    "2. "
   ]
  },
  {
   "cell_type": "code",
   "execution_count": 1,
   "metadata": {
    "slideshow": {
     "slide_type": "slide"
    }
   },
   "outputs": [
    {
     "data": {
      "text/plain": [
       "my.net, 55001"
      ]
     },
     "execution_count": 1,
     "metadata": {},
     "output_type": "execute_result"
    }
   ],
   "source": [
    "class Connection:\n",
    "    port = 55000\n",
    "    conn_limit = 10\n",
    "    conn_count = 0\n",
    "    \n",
    "    def __init__(self, host):\n",
    "        if Connection.conn_count < Connection.conn_limit:\n",
    "            Connection.conn_count += 1\n",
    "        self.host = host\n",
    "        self.port = Connection.port + Connection.conn_count\n",
    "        \n",
    "    def close(self):\n",
    "        Connection.conn_count -= 1\n",
    "        \n",
    "    def __repr__(self):\n",
    "        return f\"{self.host}, {self.port}\"\n",
    "    \n",
    "\n",
    "conn1 = Connection(\"my.net\")\n",
    "conn1\n",
    "    "
   ]
  },
  {
   "cell_type": "code",
   "execution_count": 2,
   "metadata": {
    "slideshow": {
     "slide_type": "slide"
    }
   },
   "outputs": [
    {
     "data": {
      "text/plain": [
       "home.net, 55002"
      ]
     },
     "execution_count": 2,
     "metadata": {},
     "output_type": "execute_result"
    }
   ],
   "source": [
    "conn2 = Connection(\"home.net\")\n",
    "conn2\n"
   ]
  },
  {
   "cell_type": "code",
   "execution_count": 3,
   "metadata": {
    "scrolled": true,
    "slideshow": {
     "slide_type": "slide"
    }
   },
   "outputs": [
    {
     "data": {
      "text/plain": [
       "mappingproxy({'__module__': '__main__',\n",
       "              'port': 55000,\n",
       "              'conn_limit': 10,\n",
       "              'conn_count': 2,\n",
       "              '__init__': <function __main__.Connection.__init__(self, host)>,\n",
       "              'close': <function __main__.Connection.close(self)>,\n",
       "              '__repr__': <function __main__.Connection.__repr__(self)>,\n",
       "              '__dict__': <attribute '__dict__' of 'Connection' objects>,\n",
       "              '__weakref__': <attribute '__weakref__' of 'Connection' objects>,\n",
       "              '__doc__': None})"
      ]
     },
     "execution_count": 3,
     "metadata": {},
     "output_type": "execute_result"
    }
   ],
   "source": [
    "Connection.__dict__"
   ]
  },
  {
   "cell_type": "code",
   "execution_count": 4,
   "metadata": {
    "scrolled": true,
    "slideshow": {
     "slide_type": "slide"
    }
   },
   "outputs": [
    {
     "data": {
      "text/plain": [
       "{'host': 'home.net', 'port': 55002}"
      ]
     },
     "execution_count": 4,
     "metadata": {},
     "output_type": "execute_result"
    }
   ],
   "source": [
    "conn2.__dict__"
   ]
  },
  {
   "cell_type": "markdown",
   "metadata": {
    "slideshow": {
     "slide_type": "skip"
    }
   },
   "source": [
    "2. Another option is to access the class using the `__class__` property of the instance. Give this a try and see if you can get it to work. "
   ]
  },
  {
   "cell_type": "code",
   "execution_count": 5,
   "metadata": {
    "slideshow": {
     "slide_type": "slide"
    }
   },
   "outputs": [
    {
     "data": {
      "text/plain": [
       "my.net, 55000"
      ]
     },
     "execution_count": 5,
     "metadata": {},
     "output_type": "execute_result"
    }
   ],
   "source": [
    "class Connection:\n",
    "    port = 55000\n",
    "    conn_limit = 10\n",
    "    conn_count = 0\n",
    "    \n",
    "    def __init__(self, host):\n",
    "        self.host = host\n",
    "        self.port = Connection.port + self.__class__.conn_count\n",
    "        if self.__class__.conn_count < self.__class__.conn_limit:\n",
    "            self.__class__.conn_count += 1\n",
    "        \n",
    "    def close(self):\n",
    "        self.__class__.conn_count -= 1\n",
    "        \n",
    "    def __repr__(self):\n",
    "        return f\"{self.host}, {self.port}\"\n",
    "    \n",
    "\n",
    "conn1 = Connection(\"my.net\")\n",
    "conn1"
   ]
  },
  {
   "cell_type": "markdown",
   "metadata": {
    "slideshow": {
     "slide_type": "skip"
    }
   },
   "source": [
    "3. Finally we ca create a class method using the @classmethod decorator:\n",
    "\n",
    "```Python\n",
    "@classmethod\n",
    "def get_next_port(cls):\n",
    "```\n",
    "\n",
    "With this approach we create methods which receive the class itself (`cls`) as their first parameter instead of `self`. Create a class which uses class methods `get_next_port`, `get_connection_count`, `add_connection` and `remove_connection` to manage the class data attributes.\n",
    "\n",
    "Create an instance of the class. Can you call an instance method from the class method? Can you call the class method from an instance method? \n",
    "\n"
   ]
  },
  {
   "cell_type": "code",
   "execution_count": 6,
   "metadata": {
    "slideshow": {
     "slide_type": "slide"
    }
   },
   "outputs": [],
   "source": [
    "class Connection:\n",
    "    port = 55000\n",
    "    conn_limit = 10\n",
    "    conn_count = 0\n",
    "    \n",
    "    def __init__(self, host):\n",
    "        self.host = host\n",
    "        self.port = self.get_next_port()\n",
    "        self.add_connection(self)\n",
    "        \n",
    "    @classmethod\n",
    "    def get_next_port(cls):\n",
    "        cls.port += 1\n",
    "        return cls.port\n",
    "        \n",
    "    @classmethod\n",
    "    def add_connection(cls, self):\n",
    "        if cls.conn_count < cls.conn_limit:\n",
    "            cls.conn_count += 1\n",
    "            \n",
    "    @classmethod\n",
    "    def remove_connection(cls, self):\n",
    "        cls.conn_count -= 1\n",
    "        \n",
    "    @classmethod\n",
    "    def get_connection_count(cls):\n",
    "        return cls.conn_count\n",
    "        \n",
    "    def close(self):\n",
    "        self.remove_connection(self)\n",
    "        \n",
    "    def __repr__(self):\n",
    "        return f\"{self.host}, {self.port}\"\n",
    "    "
   ]
  },
  {
   "cell_type": "code",
   "execution_count": 7,
   "metadata": {
    "scrolled": false,
    "slideshow": {
     "slide_type": "slide"
    }
   },
   "outputs": [
    {
     "data": {
      "text/plain": [
       "mappingproxy({'__module__': '__main__',\n",
       "              'port': 55000,\n",
       "              'conn_limit': 10,\n",
       "              'conn_count': 0,\n",
       "              '__init__': <function __main__.Connection.__init__(self, host)>,\n",
       "              'get_next_port': <classmethod at 0x7fc35961cb80>,\n",
       "              'add_connection': <classmethod at 0x7fc35961c700>,\n",
       "              'remove_connection': <classmethod at 0x7fc35961c940>,\n",
       "              'get_connection_count': <classmethod at 0x7fc35961cbb0>,\n",
       "              'close': <function __main__.Connection.close(self)>,\n",
       "              '__repr__': <function __main__.Connection.__repr__(self)>,\n",
       "              '__dict__': <attribute '__dict__' of 'Connection' objects>,\n",
       "              '__weakref__': <attribute '__weakref__' of 'Connection' objects>,\n",
       "              '__doc__': None})"
      ]
     },
     "execution_count": 7,
     "metadata": {},
     "output_type": "execute_result"
    }
   ],
   "source": [
    "Connection.__dict__"
   ]
  },
  {
   "cell_type": "code",
   "execution_count": 8,
   "metadata": {
    "scrolled": true,
    "slideshow": {
     "slide_type": "slide"
    }
   },
   "outputs": [
    {
     "data": {
      "text/plain": [
       "my.net, 55001"
      ]
     },
     "execution_count": 8,
     "metadata": {},
     "output_type": "execute_result"
    }
   ],
   "source": [
    "conn1 = Connection(\"my.net\")\n",
    "conn1\n",
    "    "
   ]
  },
  {
   "cell_type": "code",
   "execution_count": 9,
   "metadata": {
    "slideshow": {
     "slide_type": "slide"
    }
   },
   "outputs": [
    {
     "data": {
      "text/plain": [
       "home.net, 55002"
      ]
     },
     "execution_count": 9,
     "metadata": {},
     "output_type": "execute_result"
    }
   ],
   "source": [
    "conn2 = Connection(\"home.net\")\n",
    "conn2\n"
   ]
  },
  {
   "cell_type": "code",
   "execution_count": 10,
   "metadata": {
    "scrolled": false,
    "slideshow": {
     "slide_type": "slide"
    }
   },
   "outputs": [
    {
     "data": {
      "text/plain": [
       "2"
      ]
     },
     "execution_count": 10,
     "metadata": {},
     "output_type": "execute_result"
    }
   ],
   "source": [
    "Connection.get_connection_count()"
   ]
  },
  {
   "cell_type": "code",
   "execution_count": 11,
   "metadata": {
    "slideshow": {
     "slide_type": "slide"
    }
   },
   "outputs": [],
   "source": [
    "conn1.remove_connection(conn1)"
   ]
  },
  {
   "cell_type": "code",
   "execution_count": 12,
   "metadata": {
    "scrolled": false,
    "slideshow": {
     "slide_type": "slide"
    }
   },
   "outputs": [
    {
     "data": {
      "text/plain": [
       "1"
      ]
     },
     "execution_count": 12,
     "metadata": {},
     "output_type": "execute_result"
    }
   ],
   "source": [
    "Connection.get_connection_count()"
   ]
  },
  {
   "cell_type": "code",
   "execution_count": null,
   "metadata": {},
   "outputs": [],
   "source": []
  }
 ],
 "metadata": {
  "celltoolbar": "Slideshow",
  "kernelspec": {
   "display_name": "Python 3",
   "language": "python",
   "name": "python3"
  },
  "language_info": {
   "codemirror_mode": {
    "name": "ipython",
    "version": 3
   },
   "file_extension": ".py",
   "mimetype": "text/x-python",
   "name": "python",
   "nbconvert_exporter": "python",
   "pygments_lexer": "ipython3",
   "version": "3.9.1"
  },
  "livereveal": {
   "scroll": true,
   "start_slideshow_at": "selected",
   "theme": "white",
   "transition": "none"
  },
  "toc": {
   "base_numbering": 1,
   "nav_menu": {},
   "number_sections": false,
   "sideBar": true,
   "skip_h1_title": false,
   "title_cell": "Table of Contents",
   "title_sidebar": "Contents",
   "toc_cell": false,
   "toc_position": {},
   "toc_section_display": true,
   "toc_window_display": false
  }
 },
 "nbformat": 4,
 "nbformat_minor": 2
}
